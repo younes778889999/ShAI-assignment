{
 "cells": [
  {
   "cell_type": "markdown",
   "metadata": {
    "id": "9veqgG-LVKd3"
   },
   "source": [
    "#About Dataset\n",
    "salaries dataset generally provides information about the employees of an organization in relation to their compensation. It typically includes details such as how much each employee is paid (their salary), their job titles, the departments they work in, and possibly additional information like their level of experience, education, and employment history within the organization."
   ]
  },
  {
   "cell_type": "markdown",
   "metadata": {
    "id": "cZwHdpBfVzOh"
   },
   "source": [
    "# Features\n",
    "- 'Id'\n",
    "- 'EmployeeName'\n",
    "- 'JobTitle'\n",
    "- 'BasePay'\n",
    "- 'OvertimePay'\n",
    "- 'OtherPay'\n",
    "- 'Benefits'\n",
    "- 'TotalPay' -> salary\n",
    "- 'TotalPayBenefits'\n",
    "- 'Year'\n",
    "- 'Notes'\n",
    "- 'Agency'\n",
    "- 'Status'\n"
   ]
  },
  {
   "cell_type": "markdown",
   "metadata": {
    "id": "X1VJposzVrSF"
   },
   "source": [
    "# Tasks\n",
    "\n",
    "1. **Basic Data Exploration**: Identify the number of rows and columns in the dataset, determine the data types of each column, and check for missing values in each column.\n",
    "\n",
    "2. **Descriptive Statistics**: Calculate basic statistics mean, median, mode, minimum, and maximum salary, determine the range of salaries, and find the standard deviation.\n",
    "\n",
    "3. **Data Cleaning**: Handle missing data by suitable method with explain why you use it.\n",
    "\n",
    "4. **Basic Data Visualization**: Create histograms or bar charts to visualize the distribution of salaries, and use pie charts to represent the proportion of employees in different departments.\n",
    "\n",
    "5. **Grouped Analysis**: Group the data by one or more columns and calculate summary statistics for each group, and compare the average salaries across different groups.\n",
    "\n",
    "6. **Simple Correlation Analysis**: Identify any correlation between salary and another numerical column, and plot a scatter plot to visualize the relationship.\n",
    "\n",
    "8. **Summary of Insights**: Write a brief report summarizing the findings and insights from the analyses."
   ]
  },
  {
   "cell_type": "markdown",
   "metadata": {
    "id": "8_rNdHiGUT6A"
   },
   "source": [
    "# Very Important Note\n",
    "There is no fixed or singular solution for this assignment, so if anything is not clear, please do what you understand and provide an explanation."
   ]
  },
  {
   "cell_type": "code",
   "execution_count": 103,
   "metadata": {
    "colab": {
     "base_uri": "https://localhost:8080/",
     "height": 486
    },
    "id": "KmZfk5xkXI2y",
    "outputId": "e77ffddb-f533-4bac-d15a-3ea9f42b7890"
   },
   "outputs": [
    {
     "data": {
      "text/html": [
       "<div>\n",
       "<style scoped>\n",
       "    .dataframe tbody tr th:only-of-type {\n",
       "        vertical-align: middle;\n",
       "    }\n",
       "\n",
       "    .dataframe tbody tr th {\n",
       "        vertical-align: top;\n",
       "    }\n",
       "\n",
       "    .dataframe thead th {\n",
       "        text-align: right;\n",
       "    }\n",
       "</style>\n",
       "<table border=\"1\" class=\"dataframe\">\n",
       "  <thead>\n",
       "    <tr style=\"text-align: right;\">\n",
       "      <th></th>\n",
       "      <th>Id</th>\n",
       "      <th>EmployeeName</th>\n",
       "      <th>JobTitle</th>\n",
       "      <th>BasePay</th>\n",
       "      <th>OvertimePay</th>\n",
       "      <th>OtherPay</th>\n",
       "      <th>Benefits</th>\n",
       "      <th>TotalPay</th>\n",
       "      <th>TotalPayBenefits</th>\n",
       "      <th>Year</th>\n",
       "      <th>Notes</th>\n",
       "      <th>Agency</th>\n",
       "      <th>Status</th>\n",
       "    </tr>\n",
       "  </thead>\n",
       "  <tbody>\n",
       "    <tr>\n",
       "      <th>0</th>\n",
       "      <td>1</td>\n",
       "      <td>NATHANIEL FORD</td>\n",
       "      <td>GENERAL MANAGER-METROPOLITAN TRANSIT AUTHORITY</td>\n",
       "      <td>167411.18</td>\n",
       "      <td>0.00</td>\n",
       "      <td>400184.25</td>\n",
       "      <td>NaN</td>\n",
       "      <td>567595.43</td>\n",
       "      <td>567595.43</td>\n",
       "      <td>2011</td>\n",
       "      <td>NaN</td>\n",
       "      <td>San Francisco</td>\n",
       "      <td>NaN</td>\n",
       "    </tr>\n",
       "    <tr>\n",
       "      <th>1</th>\n",
       "      <td>2</td>\n",
       "      <td>GARY JIMENEZ</td>\n",
       "      <td>CAPTAIN III (POLICE DEPARTMENT)</td>\n",
       "      <td>155966.02</td>\n",
       "      <td>245131.88</td>\n",
       "      <td>137811.38</td>\n",
       "      <td>NaN</td>\n",
       "      <td>538909.28</td>\n",
       "      <td>538909.28</td>\n",
       "      <td>2011</td>\n",
       "      <td>NaN</td>\n",
       "      <td>San Francisco</td>\n",
       "      <td>NaN</td>\n",
       "    </tr>\n",
       "    <tr>\n",
       "      <th>2</th>\n",
       "      <td>3</td>\n",
       "      <td>ALBERT PARDINI</td>\n",
       "      <td>CAPTAIN III (POLICE DEPARTMENT)</td>\n",
       "      <td>212739.13</td>\n",
       "      <td>106088.18</td>\n",
       "      <td>16452.60</td>\n",
       "      <td>NaN</td>\n",
       "      <td>335279.91</td>\n",
       "      <td>335279.91</td>\n",
       "      <td>2011</td>\n",
       "      <td>NaN</td>\n",
       "      <td>San Francisco</td>\n",
       "      <td>NaN</td>\n",
       "    </tr>\n",
       "    <tr>\n",
       "      <th>3</th>\n",
       "      <td>4</td>\n",
       "      <td>CHRISTOPHER CHONG</td>\n",
       "      <td>WIRE ROPE CABLE MAINTENANCE MECHANIC</td>\n",
       "      <td>77916.00</td>\n",
       "      <td>56120.71</td>\n",
       "      <td>198306.90</td>\n",
       "      <td>NaN</td>\n",
       "      <td>332343.61</td>\n",
       "      <td>332343.61</td>\n",
       "      <td>2011</td>\n",
       "      <td>NaN</td>\n",
       "      <td>San Francisco</td>\n",
       "      <td>NaN</td>\n",
       "    </tr>\n",
       "    <tr>\n",
       "      <th>4</th>\n",
       "      <td>5</td>\n",
       "      <td>PATRICK GARDNER</td>\n",
       "      <td>DEPUTY CHIEF OF DEPARTMENT,(FIRE DEPARTMENT)</td>\n",
       "      <td>134401.60</td>\n",
       "      <td>9737.00</td>\n",
       "      <td>182234.59</td>\n",
       "      <td>NaN</td>\n",
       "      <td>326373.19</td>\n",
       "      <td>326373.19</td>\n",
       "      <td>2011</td>\n",
       "      <td>NaN</td>\n",
       "      <td>San Francisco</td>\n",
       "      <td>NaN</td>\n",
       "    </tr>\n",
       "  </tbody>\n",
       "</table>\n",
       "</div>"
      ],
      "text/plain": [
       "   Id       EmployeeName                                        JobTitle  \\\n",
       "0   1     NATHANIEL FORD  GENERAL MANAGER-METROPOLITAN TRANSIT AUTHORITY   \n",
       "1   2       GARY JIMENEZ                 CAPTAIN III (POLICE DEPARTMENT)   \n",
       "2   3     ALBERT PARDINI                 CAPTAIN III (POLICE DEPARTMENT)   \n",
       "3   4  CHRISTOPHER CHONG            WIRE ROPE CABLE MAINTENANCE MECHANIC   \n",
       "4   5    PATRICK GARDNER    DEPUTY CHIEF OF DEPARTMENT,(FIRE DEPARTMENT)   \n",
       "\n",
       "     BasePay  OvertimePay   OtherPay  Benefits   TotalPay  TotalPayBenefits  \\\n",
       "0  167411.18         0.00  400184.25       NaN  567595.43         567595.43   \n",
       "1  155966.02    245131.88  137811.38       NaN  538909.28         538909.28   \n",
       "2  212739.13    106088.18   16452.60       NaN  335279.91         335279.91   \n",
       "3   77916.00     56120.71  198306.90       NaN  332343.61         332343.61   \n",
       "4  134401.60      9737.00  182234.59       NaN  326373.19         326373.19   \n",
       "\n",
       "   Year  Notes         Agency  Status  \n",
       "0  2011    NaN  San Francisco     NaN  \n",
       "1  2011    NaN  San Francisco     NaN  \n",
       "2  2011    NaN  San Francisco     NaN  \n",
       "3  2011    NaN  San Francisco     NaN  \n",
       "4  2011    NaN  San Francisco     NaN  "
      ]
     },
     "execution_count": 103,
     "metadata": {},
     "output_type": "execute_result"
    }
   ],
   "source": [
    "import pandas as pd\n",
    "import numpy as np\n",
    "\n",
    "# Load your dataset\n",
    "df = pd.read_csv('Salaries.csv')\n",
    "df.head()\n"
   ]
  },
  {
   "cell_type": "code",
   "execution_count": 104,
   "metadata": {
    "colab": {
     "base_uri": "https://localhost:8080/"
    },
    "id": "xIT514wlvvBZ",
    "outputId": "9ecf152c-554a-4cf6-d667-efc95c16d489"
   },
   "outputs": [
    {
     "data": {
      "text/plain": [
       "Index(['Id', 'EmployeeName', 'JobTitle', 'BasePay', 'OvertimePay', 'OtherPay',\n",
       "       'Benefits', 'TotalPay', 'TotalPayBenefits', 'Year', 'Notes', 'Agency',\n",
       "       'Status'],\n",
       "      dtype='object')"
      ]
     },
     "execution_count": 104,
     "metadata": {},
     "output_type": "execute_result"
    }
   ],
   "source": [
    "df.columns"
   ]
  },
  {
   "cell_type": "markdown",
   "metadata": {
    "id": "_dovy31FUyUF"
   },
   "source": [
    "# Task 1"
   ]
  },
  {
   "cell_type": "code",
   "execution_count": 105,
   "metadata": {},
   "outputs": [
    {
     "name": "stdout",
     "output_type": "stream",
     "text": [
      "total shape:  (148654, 13)\n",
      "rows :  148654\n",
      "cloumns :  13\n"
     ]
    }
   ],
   "source": [
    "print(\"total shape: \",df.shape)\n",
    "print(\"rows : \",df.shape[0])\n",
    "print(\"cloumns : \",df.shape[1])"
   ]
  },
  {
   "cell_type": "code",
   "execution_count": 106,
   "metadata": {},
   "outputs": [
    {
     "data": {
      "text/plain": [
       "Id                    int64\n",
       "EmployeeName         object\n",
       "JobTitle             object\n",
       "BasePay             float64\n",
       "OvertimePay         float64\n",
       "OtherPay            float64\n",
       "Benefits            float64\n",
       "TotalPay            float64\n",
       "TotalPayBenefits    float64\n",
       "Year                  int64\n",
       "Notes               float64\n",
       "Agency               object\n",
       "Status              float64\n",
       "dtype: object"
      ]
     },
     "execution_count": 106,
     "metadata": {},
     "output_type": "execute_result"
    }
   ],
   "source": [
    "df.dtypes"
   ]
  },
  {
   "cell_type": "code",
   "execution_count": 107,
   "metadata": {},
   "outputs": [
    {
     "data": {
      "text/plain": [
       "Id                       0\n",
       "EmployeeName             0\n",
       "JobTitle                 0\n",
       "BasePay                609\n",
       "OvertimePay              4\n",
       "OtherPay                 4\n",
       "Benefits             36163\n",
       "TotalPay                 0\n",
       "TotalPayBenefits         0\n",
       "Year                     0\n",
       "Notes               148654\n",
       "Agency                   0\n",
       "Status              148654\n",
       "dtype: int64"
      ]
     },
     "execution_count": 107,
     "metadata": {},
     "output_type": "execute_result"
    }
   ],
   "source": [
    "df.isnull().sum()"
   ]
  },
  {
   "cell_type": "markdown",
   "metadata": {},
   "source": [
    "# Task 2"
   ]
  },
  {
   "cell_type": "code",
   "execution_count": 108,
   "metadata": {},
   "outputs": [
    {
     "name": "stdout",
     "output_type": "stream",
     "text": [
      "The mean of salary is: 74768.321971703\n",
      "The mean of salary is: 74768.32197169267\n"
     ]
    }
   ],
   "source": [
    "#Calculating the mean value\n",
    "Sum = 0\n",
    "for i in df['TotalPay']:\n",
    "       Sum += i\n",
    "mean = Sum/len(df)\n",
    "print(f\"The mean of salary is: {mean}\")\n",
    "#or we can use a function\n",
    "print(f\"The mean of salary is: {df['TotalPay'].mean()}\")"
   ]
  },
  {
   "cell_type": "code",
   "execution_count": 109,
   "metadata": {},
   "outputs": [
    {
     "name": "stdout",
     "output_type": "stream",
     "text": [
      "The median salary is: 71426.60999999999\n",
      "The mediad salary is: 71426.60999999999\n"
     ]
    }
   ],
   "source": [
    "#Calculating the median value\n",
    "X = np.sort(np.array(df['TotalPay']))\n",
    "median = (X[(len(df['TotalPay'])-1)//2] + X[len(df['TotalPay'])//2])/2\n",
    "print(f\"The median salary is: {median}\")\n",
    "#or we can use a function\n",
    "print(f\"The mediad salary is: {np.median(df['TotalPay'])}\")"
   ]
  },
  {
   "cell_type": "code",
   "execution_count": 110,
   "metadata": {},
   "outputs": [
    {
     "name": "stdout",
     "output_type": "stream",
     "text": [
      "the mode salary is:0.0\n",
      "The mode salary is: 0.0\n"
     ]
    }
   ],
   "source": [
    "#Calculating the mode value\n",
    "Salaries=df['TotalPay']\n",
    "frequency={}\n",
    "for i in Salaries:\n",
    "    frequency.setdefault(i, 0)\n",
    "    frequency[i] += 1\n",
    "Max=max(frequency.values())\n",
    "for key, value in frequency.items():\n",
    "    if value == Max:\n",
    "        print(f\"the mode salary is:{key}\")\n",
    "        \n",
    "#or we can use a function\n",
    "import statistics as st\n",
    "print(f\"The mode salary is: {st.mode(df['TotalPay'])}\")\n",
    "    "
   ]
  },
  {
   "cell_type": "code",
   "execution_count": 111,
   "metadata": {},
   "outputs": [
    {
     "name": "stdout",
     "output_type": "stream",
     "text": [
      "The minimum salary is: -618.13\n",
      "The minimum salary by another method:  -618.13\n"
     ]
    }
   ],
   "source": [
    "#Calculating the Min value\n",
    "Min = df['TotalPay'][0]\n",
    "for i in df['TotalPay']:\n",
    "    if Min>i:\n",
    "        Min = i\n",
    "print(f\"The minimum salary is: {Min}\")\n",
    "\n",
    "#or using the function \n",
    "Min_Salary = df['TotalPay'].min()\n",
    "print(\"The minimum salary by another method: \",Min_Salary)"
   ]
  },
  {
   "cell_type": "code",
   "execution_count": 112,
   "metadata": {},
   "outputs": [
    {
     "name": "stdout",
     "output_type": "stream",
     "text": [
      "The minimum salary is: 567595.43\n",
      "The maximun salary by another method:  567595.43\n"
     ]
    }
   ],
   "source": [
    "#Calculating the Max value\n",
    "Max = df['TotalPay'][0]\n",
    "for i in df['TotalPay']:\n",
    "    if Max<i:\n",
    "        Max = i\n",
    "print(f\"The minimum salary is: {Max}\")\n",
    "Max_Salary = df['TotalPay'].max()\n",
    "\n",
    "print(\"The maximun salary by another method: \",Max_Salary)"
   ]
  },
  {
   "cell_type": "code",
   "execution_count": 113,
   "metadata": {},
   "outputs": [
    {
     "name": "stdout",
     "output_type": "stream",
     "text": [
      "The range of salary is 568213.56 \n"
     ]
    }
   ],
   "source": [
    "#to calculate the range we do (Max - Min)\n",
    "Range = Max_Salary - Min_Salary\n",
    "print(f\"The range of salary is {Range} \")"
   ]
  },
  {
   "cell_type": "code",
   "execution_count": 114,
   "metadata": {},
   "outputs": [
    {
     "name": "stdout",
     "output_type": "stream",
     "text": [
      "The standard deviation of salary:  50517.00527394987\n",
      "The standard deviation of salary:  50517.00527394987\n"
     ]
    }
   ],
   "source": [
    "#Calculating the standard deviation\n",
    "X = np.array(df['TotalPay'])\n",
    "for i in range(len(X)):\n",
    "    X[i] -= mean\n",
    "    X[i] *= X[i]\n",
    "SD = np.sqrt(np.sum(X)/(len(X)-1))\n",
    "print(\"The standard deviation of salary: \",SD)\n",
    "\n",
    "#or using the function\n",
    "print(\"The standard deviation of salary: \",df['TotalPay'].std())"
   ]
  },
  {
   "cell_type": "markdown",
   "metadata": {},
   "source": [
    "# Task 3"
   ]
  },
  {
   "cell_type": "code",
   "execution_count": 115,
   "metadata": {},
   "outputs": [
    {
     "data": {
      "text/html": [
       "<div>\n",
       "<style scoped>\n",
       "    .dataframe tbody tr th:only-of-type {\n",
       "        vertical-align: middle;\n",
       "    }\n",
       "\n",
       "    .dataframe tbody tr th {\n",
       "        vertical-align: top;\n",
       "    }\n",
       "\n",
       "    .dataframe thead th {\n",
       "        text-align: right;\n",
       "    }\n",
       "</style>\n",
       "<table border=\"1\" class=\"dataframe\">\n",
       "  <thead>\n",
       "    <tr style=\"text-align: right;\">\n",
       "      <th></th>\n",
       "      <th>Id</th>\n",
       "      <th>EmployeeName</th>\n",
       "      <th>JobTitle</th>\n",
       "      <th>BasePay</th>\n",
       "      <th>OvertimePay</th>\n",
       "      <th>OtherPay</th>\n",
       "      <th>Benefits</th>\n",
       "      <th>TotalPay</th>\n",
       "      <th>TotalPayBenefits</th>\n",
       "      <th>Year</th>\n",
       "      <th>Agency</th>\n",
       "    </tr>\n",
       "  </thead>\n",
       "  <tbody>\n",
       "    <tr>\n",
       "      <th>0</th>\n",
       "      <td>1</td>\n",
       "      <td>NATHANIEL FORD</td>\n",
       "      <td>GENERAL MANAGER-METROPOLITAN TRANSIT AUTHORITY</td>\n",
       "      <td>167411.18</td>\n",
       "      <td>0.00</td>\n",
       "      <td>400184.25</td>\n",
       "      <td>NaN</td>\n",
       "      <td>567595.43</td>\n",
       "      <td>567595.43</td>\n",
       "      <td>2011</td>\n",
       "      <td>San Francisco</td>\n",
       "    </tr>\n",
       "    <tr>\n",
       "      <th>1</th>\n",
       "      <td>2</td>\n",
       "      <td>GARY JIMENEZ</td>\n",
       "      <td>CAPTAIN III (POLICE DEPARTMENT)</td>\n",
       "      <td>155966.02</td>\n",
       "      <td>245131.88</td>\n",
       "      <td>137811.38</td>\n",
       "      <td>NaN</td>\n",
       "      <td>538909.28</td>\n",
       "      <td>538909.28</td>\n",
       "      <td>2011</td>\n",
       "      <td>San Francisco</td>\n",
       "    </tr>\n",
       "    <tr>\n",
       "      <th>2</th>\n",
       "      <td>3</td>\n",
       "      <td>ALBERT PARDINI</td>\n",
       "      <td>CAPTAIN III (POLICE DEPARTMENT)</td>\n",
       "      <td>212739.13</td>\n",
       "      <td>106088.18</td>\n",
       "      <td>16452.60</td>\n",
       "      <td>NaN</td>\n",
       "      <td>335279.91</td>\n",
       "      <td>335279.91</td>\n",
       "      <td>2011</td>\n",
       "      <td>San Francisco</td>\n",
       "    </tr>\n",
       "    <tr>\n",
       "      <th>3</th>\n",
       "      <td>4</td>\n",
       "      <td>CHRISTOPHER CHONG</td>\n",
       "      <td>WIRE ROPE CABLE MAINTENANCE MECHANIC</td>\n",
       "      <td>77916.00</td>\n",
       "      <td>56120.71</td>\n",
       "      <td>198306.90</td>\n",
       "      <td>NaN</td>\n",
       "      <td>332343.61</td>\n",
       "      <td>332343.61</td>\n",
       "      <td>2011</td>\n",
       "      <td>San Francisco</td>\n",
       "    </tr>\n",
       "    <tr>\n",
       "      <th>4</th>\n",
       "      <td>5</td>\n",
       "      <td>PATRICK GARDNER</td>\n",
       "      <td>DEPUTY CHIEF OF DEPARTMENT,(FIRE DEPARTMENT)</td>\n",
       "      <td>134401.60</td>\n",
       "      <td>9737.00</td>\n",
       "      <td>182234.59</td>\n",
       "      <td>NaN</td>\n",
       "      <td>326373.19</td>\n",
       "      <td>326373.19</td>\n",
       "      <td>2011</td>\n",
       "      <td>San Francisco</td>\n",
       "    </tr>\n",
       "  </tbody>\n",
       "</table>\n",
       "</div>"
      ],
      "text/plain": [
       "   Id       EmployeeName                                        JobTitle  \\\n",
       "0   1     NATHANIEL FORD  GENERAL MANAGER-METROPOLITAN TRANSIT AUTHORITY   \n",
       "1   2       GARY JIMENEZ                 CAPTAIN III (POLICE DEPARTMENT)   \n",
       "2   3     ALBERT PARDINI                 CAPTAIN III (POLICE DEPARTMENT)   \n",
       "3   4  CHRISTOPHER CHONG            WIRE ROPE CABLE MAINTENANCE MECHANIC   \n",
       "4   5    PATRICK GARDNER    DEPUTY CHIEF OF DEPARTMENT,(FIRE DEPARTMENT)   \n",
       "\n",
       "     BasePay  OvertimePay   OtherPay  Benefits   TotalPay  TotalPayBenefits  \\\n",
       "0  167411.18         0.00  400184.25       NaN  567595.43         567595.43   \n",
       "1  155966.02    245131.88  137811.38       NaN  538909.28         538909.28   \n",
       "2  212739.13    106088.18   16452.60       NaN  335279.91         335279.91   \n",
       "3   77916.00     56120.71  198306.90       NaN  332343.61         332343.61   \n",
       "4  134401.60      9737.00  182234.59       NaN  326373.19         326373.19   \n",
       "\n",
       "   Year         Agency  \n",
       "0  2011  San Francisco  \n",
       "1  2011  San Francisco  \n",
       "2  2011  San Francisco  \n",
       "3  2011  San Francisco  \n",
       "4  2011  San Francisco  "
      ]
     },
     "execution_count": 115,
     "metadata": {},
     "output_type": "execute_result"
    }
   ],
   "source": [
    "#for the notes and status column I will delete them because they are complitly empty \n",
    "df=df.dropna(axis=1,thresh=100000)\n",
    "df.head()\n"
   ]
  },
  {
   "cell_type": "code",
   "execution_count": 116,
   "metadata": {},
   "outputs": [
    {
     "data": {
      "text/html": [
       "<div>\n",
       "<style scoped>\n",
       "    .dataframe tbody tr th:only-of-type {\n",
       "        vertical-align: middle;\n",
       "    }\n",
       "\n",
       "    .dataframe tbody tr th {\n",
       "        vertical-align: top;\n",
       "    }\n",
       "\n",
       "    .dataframe thead th {\n",
       "        text-align: right;\n",
       "    }\n",
       "</style>\n",
       "<table border=\"1\" class=\"dataframe\">\n",
       "  <thead>\n",
       "    <tr style=\"text-align: right;\">\n",
       "      <th></th>\n",
       "      <th>Id</th>\n",
       "      <th>EmployeeName</th>\n",
       "      <th>JobTitle</th>\n",
       "      <th>BasePay</th>\n",
       "      <th>OvertimePay</th>\n",
       "      <th>OtherPay</th>\n",
       "      <th>Benefits</th>\n",
       "      <th>TotalPay</th>\n",
       "      <th>TotalPayBenefits</th>\n",
       "      <th>Year</th>\n",
       "      <th>Agency</th>\n",
       "    </tr>\n",
       "  </thead>\n",
       "  <tbody>\n",
       "    <tr>\n",
       "      <th>0</th>\n",
       "      <td>1</td>\n",
       "      <td>NATHANIEL FORD</td>\n",
       "      <td>GENERAL MANAGER-METROPOLITAN TRANSIT AUTHORITY</td>\n",
       "      <td>167411.18</td>\n",
       "      <td>0.00</td>\n",
       "      <td>400184.25</td>\n",
       "      <td>0.0</td>\n",
       "      <td>567595.43</td>\n",
       "      <td>567595.43</td>\n",
       "      <td>2011</td>\n",
       "      <td>San Francisco</td>\n",
       "    </tr>\n",
       "    <tr>\n",
       "      <th>1</th>\n",
       "      <td>2</td>\n",
       "      <td>GARY JIMENEZ</td>\n",
       "      <td>CAPTAIN III (POLICE DEPARTMENT)</td>\n",
       "      <td>155966.02</td>\n",
       "      <td>245131.88</td>\n",
       "      <td>137811.38</td>\n",
       "      <td>0.0</td>\n",
       "      <td>538909.28</td>\n",
       "      <td>538909.28</td>\n",
       "      <td>2011</td>\n",
       "      <td>San Francisco</td>\n",
       "    </tr>\n",
       "    <tr>\n",
       "      <th>2</th>\n",
       "      <td>3</td>\n",
       "      <td>ALBERT PARDINI</td>\n",
       "      <td>CAPTAIN III (POLICE DEPARTMENT)</td>\n",
       "      <td>212739.13</td>\n",
       "      <td>106088.18</td>\n",
       "      <td>16452.60</td>\n",
       "      <td>0.0</td>\n",
       "      <td>335279.91</td>\n",
       "      <td>335279.91</td>\n",
       "      <td>2011</td>\n",
       "      <td>San Francisco</td>\n",
       "    </tr>\n",
       "    <tr>\n",
       "      <th>3</th>\n",
       "      <td>4</td>\n",
       "      <td>CHRISTOPHER CHONG</td>\n",
       "      <td>WIRE ROPE CABLE MAINTENANCE MECHANIC</td>\n",
       "      <td>77916.00</td>\n",
       "      <td>56120.71</td>\n",
       "      <td>198306.90</td>\n",
       "      <td>0.0</td>\n",
       "      <td>332343.61</td>\n",
       "      <td>332343.61</td>\n",
       "      <td>2011</td>\n",
       "      <td>San Francisco</td>\n",
       "    </tr>\n",
       "    <tr>\n",
       "      <th>4</th>\n",
       "      <td>5</td>\n",
       "      <td>PATRICK GARDNER</td>\n",
       "      <td>DEPUTY CHIEF OF DEPARTMENT,(FIRE DEPARTMENT)</td>\n",
       "      <td>134401.60</td>\n",
       "      <td>9737.00</td>\n",
       "      <td>182234.59</td>\n",
       "      <td>0.0</td>\n",
       "      <td>326373.19</td>\n",
       "      <td>326373.19</td>\n",
       "      <td>2011</td>\n",
       "      <td>San Francisco</td>\n",
       "    </tr>\n",
       "  </tbody>\n",
       "</table>\n",
       "</div>"
      ],
      "text/plain": [
       "   Id       EmployeeName                                        JobTitle  \\\n",
       "0   1     NATHANIEL FORD  GENERAL MANAGER-METROPOLITAN TRANSIT AUTHORITY   \n",
       "1   2       GARY JIMENEZ                 CAPTAIN III (POLICE DEPARTMENT)   \n",
       "2   3     ALBERT PARDINI                 CAPTAIN III (POLICE DEPARTMENT)   \n",
       "3   4  CHRISTOPHER CHONG            WIRE ROPE CABLE MAINTENANCE MECHANIC   \n",
       "4   5    PATRICK GARDNER    DEPUTY CHIEF OF DEPARTMENT,(FIRE DEPARTMENT)   \n",
       "\n",
       "     BasePay  OvertimePay   OtherPay  Benefits   TotalPay  TotalPayBenefits  \\\n",
       "0  167411.18         0.00  400184.25       0.0  567595.43         567595.43   \n",
       "1  155966.02    245131.88  137811.38       0.0  538909.28         538909.28   \n",
       "2  212739.13    106088.18   16452.60       0.0  335279.91         335279.91   \n",
       "3   77916.00     56120.71  198306.90       0.0  332343.61         332343.61   \n",
       "4  134401.60      9737.00  182234.59       0.0  326373.19         326373.19   \n",
       "\n",
       "   Year         Agency  \n",
       "0  2011  San Francisco  \n",
       "1  2011  San Francisco  \n",
       "2  2011  San Francisco  \n",
       "3  2011  San Francisco  \n",
       "4  2011  San Francisco  "
      ]
     },
     "execution_count": 116,
     "metadata": {},
     "output_type": "execute_result"
    }
   ],
   "source": [
    "#for the columns that have numerical values  I will replace the null values with 0 \n",
    "df.fillna(value=0.0,inplace=True)\n",
    "df.head()"
   ]
  },
  {
   "cell_type": "markdown",
   "metadata": {},
   "source": [
    "# Task 4"
   ]
  },
  {
   "cell_type": "code",
   "execution_count": 117,
   "metadata": {},
   "outputs": [
    {
     "data": {
      "image/png": "[encoded data removed]",
      "text/plain": [
       "<Figure size 640x480 with 1 Axes>"
      ]
     },
     "metadata": {},
     "output_type": "display_data"
    }
   ],
   "source": [
    "import matplotlib.pyplot as plt\n",
    "plt.hist(df['TotalPay'],range=[-100000,700000])\n",
    "plt.show()"
   ]
  },
  {
   "cell_type": "code",
   "execution_count": 120,
   "metadata": {},
   "outputs": [
    {
     "data": {
      "image/png": "[encoded data removed]",
      "text/plain": [
       "<Figure size 640x480 with 1 Axes>"
      ]
     },
     "metadata": {},
     "output_type": "display_data"
    }
   ],
   "source": [
    "#Not all samples have the department provided so I'm gonna deal with the samples that have it included  \n",
    "#Pie chart for the police department\n",
    "df1=df[\"JobTitle\"].str.upper().str.contains(\"POLICE DEPARTMENT\")\n",
    "df2=df[df1]\n",
    "freq={}\n",
    "for i in df2[\"JobTitle\"]:\n",
    "    freq.setdefault(i, 0)\n",
    "    freq[i] += 1\n",
    "plt.pie(freq.values(),labels=freq.keys())\n",
    "plt.show()\n",
    "\n",
    "\n",
    "\n"
   ]
  },
  {
   "cell_type": "code",
   "execution_count": 121,
   "metadata": {},
   "outputs": [
    {
     "data": {
      "image/png": "[encoded data removed]",
      "text/plain": [
       "<Figure size 640x480 with 1 Axes>"
      ]
     },
     "metadata": {},
     "output_type": "display_data"
    }
   ],
   "source": [
    "#Pie chart for fire department\n",
    "df3=df[\"JobTitle\"].str.upper().str.contains(\"FIRE DEPARTMENT\")\n",
    "df4=df[df3]\n",
    "freq1={}\n",
    "for i in df4[\"JobTitle\"]:\n",
    "    freq1.setdefault(i, 0)\n",
    "    freq1[i] += 1\n",
    "plt.pie(freq1.values(),labels=freq1.keys())\n",
    "plt.show()\n"
   ]
  },
  {
   "cell_type": "code",
   "execution_count": 122,
   "metadata": {},
   "outputs": [
    {
     "data": {
      "image/png": "[encoded data removed]",
      "text/plain": [
       "<Figure size 640x480 with 1 Axes>"
      ]
     },
     "metadata": {},
     "output_type": "display_data"
    }
   ],
   "source": [
    "#Pie chart for Medical Staff Services Department\n",
    "df5=df[\"JobTitle\"].str.upper().str.contains(\"MEDICAL STAFF SERVICES DEPARTMENT\")\n",
    "df6=df[df5]\n",
    "freq2={}\n",
    "for i in df6[\"JobTitle\"]:\n",
    "    freq2.setdefault(i, 0)\n",
    "    freq2[i] += 1\n",
    "plt.pie(freq2.values(),labels=freq2.keys())\n",
    "plt.show()"
   ]
  },
  {
   "cell_type": "markdown",
   "metadata": {},
   "source": [
    "# Task 5"
   ]
  },
  {
   "cell_type": "code",
   "execution_count": 123,
   "metadata": {},
   "outputs": [
    {
     "data": {
      "text/html": [
       "<div>\n",
       "<style scoped>\n",
       "    .dataframe tbody tr th:only-of-type {\n",
       "        vertical-align: middle;\n",
       "    }\n",
       "\n",
       "    .dataframe tbody tr th {\n",
       "        vertical-align: top;\n",
       "    }\n",
       "\n",
       "    .dataframe thead tr th {\n",
       "        text-align: left;\n",
       "    }\n",
       "\n",
       "    .dataframe thead tr:last-of-type th {\n",
       "        text-align: right;\n",
       "    }\n",
       "</style>\n",
       "<table border=\"1\" class=\"dataframe\">\n",
       "  <thead>\n",
       "    <tr>\n",
       "      <th></th>\n",
       "      <th colspan=\"8\" halign=\"left\">Id</th>\n",
       "      <th colspan=\"2\" halign=\"left\">BasePay</th>\n",
       "      <th>...</th>\n",
       "      <th colspan=\"2\" halign=\"left\">TotalPayBenefits</th>\n",
       "      <th colspan=\"8\" halign=\"left\">Year</th>\n",
       "    </tr>\n",
       "    <tr>\n",
       "      <th></th>\n",
       "      <th>count</th>\n",
       "      <th>mean</th>\n",
       "      <th>std</th>\n",
       "      <th>min</th>\n",
       "      <th>25%</th>\n",
       "      <th>50%</th>\n",
       "      <th>75%</th>\n",
       "      <th>max</th>\n",
       "      <th>count</th>\n",
       "      <th>mean</th>\n",
       "      <th>...</th>\n",
       "      <th>75%</th>\n",
       "      <th>max</th>\n",
       "      <th>count</th>\n",
       "      <th>mean</th>\n",
       "      <th>std</th>\n",
       "      <th>min</th>\n",
       "      <th>25%</th>\n",
       "      <th>50%</th>\n",
       "      <th>75%</th>\n",
       "      <th>max</th>\n",
       "    </tr>\n",
       "    <tr>\n",
       "      <th>JobTitle</th>\n",
       "      <th></th>\n",
       "      <th></th>\n",
       "      <th></th>\n",
       "      <th></th>\n",
       "      <th></th>\n",
       "      <th></th>\n",
       "      <th></th>\n",
       "      <th></th>\n",
       "      <th></th>\n",
       "      <th></th>\n",
       "      <th></th>\n",
       "      <th></th>\n",
       "      <th></th>\n",
       "      <th></th>\n",
       "      <th></th>\n",
       "      <th></th>\n",
       "      <th></th>\n",
       "      <th></th>\n",
       "      <th></th>\n",
       "      <th></th>\n",
       "      <th></th>\n",
       "    </tr>\n",
       "  </thead>\n",
       "  <tbody>\n",
       "    <tr>\n",
       "      <th>ACCOUNT CLERK</th>\n",
       "      <td>83.0</td>\n",
       "      <td>25734.819277</td>\n",
       "      <td>2621.592874</td>\n",
       "      <td>20766.0</td>\n",
       "      <td>24581.00</td>\n",
       "      <td>24774.0</td>\n",
       "      <td>26299.50</td>\n",
       "      <td>35638.0</td>\n",
       "      <td>83.0</td>\n",
       "      <td>43300.806506</td>\n",
       "      <td>...</td>\n",
       "      <td>50401.8100</td>\n",
       "      <td>60838.20</td>\n",
       "      <td>83.0</td>\n",
       "      <td>2011.00</td>\n",
       "      <td>0.000000</td>\n",
       "      <td>2011.0</td>\n",
       "      <td>2011.00</td>\n",
       "      <td>2011.0</td>\n",
       "      <td>2011.00</td>\n",
       "      <td>2011.0</td>\n",
       "    </tr>\n",
       "    <tr>\n",
       "      <th>ACCOUNTANT</th>\n",
       "      <td>5.0</td>\n",
       "      <td>24159.200000</td>\n",
       "      <td>6787.702608</td>\n",
       "      <td>19264.0</td>\n",
       "      <td>19325.00</td>\n",
       "      <td>20993.0</td>\n",
       "      <td>25928.00</td>\n",
       "      <td>35286.0</td>\n",
       "      <td>5.0</td>\n",
       "      <td>46643.172000</td>\n",
       "      <td>...</td>\n",
       "      <td>65225.3100</td>\n",
       "      <td>65392.01</td>\n",
       "      <td>5.0</td>\n",
       "      <td>2011.00</td>\n",
       "      <td>0.000000</td>\n",
       "      <td>2011.0</td>\n",
       "      <td>2011.00</td>\n",
       "      <td>2011.0</td>\n",
       "      <td>2011.00</td>\n",
       "      <td>2011.0</td>\n",
       "    </tr>\n",
       "    <tr>\n",
       "      <th>ACCOUNTANT INTERN</th>\n",
       "      <td>48.0</td>\n",
       "      <td>28128.833333</td>\n",
       "      <td>3941.782388</td>\n",
       "      <td>21536.0</td>\n",
       "      <td>23325.75</td>\n",
       "      <td>29979.5</td>\n",
       "      <td>31639.25</td>\n",
       "      <td>34267.0</td>\n",
       "      <td>48.0</td>\n",
       "      <td>28732.663958</td>\n",
       "      <td>...</td>\n",
       "      <td>53789.8000</td>\n",
       "      <td>58799.53</td>\n",
       "      <td>48.0</td>\n",
       "      <td>2011.00</td>\n",
       "      <td>0.000000</td>\n",
       "      <td>2011.0</td>\n",
       "      <td>2011.00</td>\n",
       "      <td>2011.0</td>\n",
       "      <td>2011.00</td>\n",
       "      <td>2011.0</td>\n",
       "    </tr>\n",
       "    <tr>\n",
       "      <th>ACPO,JuvP, Juv Prob (SFERS)</th>\n",
       "      <td>1.0</td>\n",
       "      <td>135284.000000</td>\n",
       "      <td>NaN</td>\n",
       "      <td>135284.0</td>\n",
       "      <td>135284.00</td>\n",
       "      <td>135284.0</td>\n",
       "      <td>135284.00</td>\n",
       "      <td>135284.0</td>\n",
       "      <td>1.0</td>\n",
       "      <td>62290.780000</td>\n",
       "      <td>...</td>\n",
       "      <td>80266.3700</td>\n",
       "      <td>80266.37</td>\n",
       "      <td>1.0</td>\n",
       "      <td>2014.00</td>\n",
       "      <td>NaN</td>\n",
       "      <td>2014.0</td>\n",
       "      <td>2014.00</td>\n",
       "      <td>2014.0</td>\n",
       "      <td>2014.00</td>\n",
       "      <td>2014.0</td>\n",
       "    </tr>\n",
       "    <tr>\n",
       "      <th>ACUPUNCTURIST</th>\n",
       "      <td>1.0</td>\n",
       "      <td>18379.000000</td>\n",
       "      <td>NaN</td>\n",
       "      <td>18379.0</td>\n",
       "      <td>18379.00</td>\n",
       "      <td>18379.0</td>\n",
       "      <td>18379.00</td>\n",
       "      <td>18379.0</td>\n",
       "      <td>1.0</td>\n",
       "      <td>66374.400000</td>\n",
       "      <td>...</td>\n",
       "      <td>67594.4000</td>\n",
       "      <td>67594.40</td>\n",
       "      <td>1.0</td>\n",
       "      <td>2011.00</td>\n",
       "      <td>NaN</td>\n",
       "      <td>2011.0</td>\n",
       "      <td>2011.00</td>\n",
       "      <td>2011.0</td>\n",
       "      <td>2011.00</td>\n",
       "      <td>2011.0</td>\n",
       "    </tr>\n",
       "    <tr>\n",
       "      <th>...</th>\n",
       "      <td>...</td>\n",
       "      <td>...</td>\n",
       "      <td>...</td>\n",
       "      <td>...</td>\n",
       "      <td>...</td>\n",
       "      <td>...</td>\n",
       "      <td>...</td>\n",
       "      <td>...</td>\n",
       "      <td>...</td>\n",
       "      <td>...</td>\n",
       "      <td>...</td>\n",
       "      <td>...</td>\n",
       "      <td>...</td>\n",
       "      <td>...</td>\n",
       "      <td>...</td>\n",
       "      <td>...</td>\n",
       "      <td>...</td>\n",
       "      <td>...</td>\n",
       "      <td>...</td>\n",
       "      <td>...</td>\n",
       "      <td>...</td>\n",
       "    </tr>\n",
       "    <tr>\n",
       "      <th>X-RAY LABORATORY AIDE</th>\n",
       "      <td>26.0</td>\n",
       "      <td>22502.076923</td>\n",
       "      <td>4694.321369</td>\n",
       "      <td>12940.0</td>\n",
       "      <td>19632.75</td>\n",
       "      <td>20927.0</td>\n",
       "      <td>24165.75</td>\n",
       "      <td>33182.0</td>\n",
       "      <td>26.0</td>\n",
       "      <td>47664.773077</td>\n",
       "      <td>...</td>\n",
       "      <td>64305.2850</td>\n",
       "      <td>85077.40</td>\n",
       "      <td>26.0</td>\n",
       "      <td>2011.00</td>\n",
       "      <td>0.000000</td>\n",
       "      <td>2011.0</td>\n",
       "      <td>2011.00</td>\n",
       "      <td>2011.0</td>\n",
       "      <td>2011.00</td>\n",
       "      <td>2011.0</td>\n",
       "    </tr>\n",
       "    <tr>\n",
       "      <th>X-Ray Laboratory Aide</th>\n",
       "      <td>100.0</td>\n",
       "      <td>98890.620000</td>\n",
       "      <td>31404.565120</td>\n",
       "      <td>49777.0</td>\n",
       "      <td>65829.00</td>\n",
       "      <td>98379.5</td>\n",
       "      <td>130540.75</td>\n",
       "      <td>143632.0</td>\n",
       "      <td>100.0</td>\n",
       "      <td>46086.387100</td>\n",
       "      <td>...</td>\n",
       "      <td>96592.2975</td>\n",
       "      <td>129044.16</td>\n",
       "      <td>100.0</td>\n",
       "      <td>2013.04</td>\n",
       "      <td>0.815506</td>\n",
       "      <td>2012.0</td>\n",
       "      <td>2012.00</td>\n",
       "      <td>2013.0</td>\n",
       "      <td>2014.00</td>\n",
       "      <td>2014.0</td>\n",
       "    </tr>\n",
       "    <tr>\n",
       "      <th>YOUTH COMMISSION ADVISOR, BOARD OF SUPERVISORS</th>\n",
       "      <td>1.0</td>\n",
       "      <td>23392.000000</td>\n",
       "      <td>NaN</td>\n",
       "      <td>23392.0</td>\n",
       "      <td>23392.00</td>\n",
       "      <td>23392.0</td>\n",
       "      <td>23392.00</td>\n",
       "      <td>23392.0</td>\n",
       "      <td>1.0</td>\n",
       "      <td>52609.910000</td>\n",
       "      <td>...</td>\n",
       "      <td>53632.8700</td>\n",
       "      <td>53632.87</td>\n",
       "      <td>1.0</td>\n",
       "      <td>2011.00</td>\n",
       "      <td>NaN</td>\n",
       "      <td>2011.0</td>\n",
       "      <td>2011.00</td>\n",
       "      <td>2011.0</td>\n",
       "      <td>2011.00</td>\n",
       "      <td>2011.0</td>\n",
       "    </tr>\n",
       "    <tr>\n",
       "      <th>Youth Comm Advisor</th>\n",
       "      <td>4.0</td>\n",
       "      <td>99677.750000</td>\n",
       "      <td>32595.496267</td>\n",
       "      <td>58843.0</td>\n",
       "      <td>88267.00</td>\n",
       "      <td>100704.5</td>\n",
       "      <td>112115.25</td>\n",
       "      <td>138459.0</td>\n",
       "      <td>4.0</td>\n",
       "      <td>39077.957500</td>\n",
       "      <td>...</td>\n",
       "      <td>79742.1325</td>\n",
       "      <td>85774.39</td>\n",
       "      <td>4.0</td>\n",
       "      <td>2013.00</td>\n",
       "      <td>0.816497</td>\n",
       "      <td>2012.0</td>\n",
       "      <td>2012.75</td>\n",
       "      <td>2013.0</td>\n",
       "      <td>2013.25</td>\n",
       "      <td>2014.0</td>\n",
       "    </tr>\n",
       "    <tr>\n",
       "      <th>ZOO CURATOR</th>\n",
       "      <td>1.0</td>\n",
       "      <td>18779.000000</td>\n",
       "      <td>NaN</td>\n",
       "      <td>18779.0</td>\n",
       "      <td>18779.00</td>\n",
       "      <td>18779.0</td>\n",
       "      <td>18779.00</td>\n",
       "      <td>18779.0</td>\n",
       "      <td>1.0</td>\n",
       "      <td>43148.000000</td>\n",
       "      <td>...</td>\n",
       "      <td>66686.5600</td>\n",
       "      <td>66686.56</td>\n",
       "      <td>1.0</td>\n",
       "      <td>2011.00</td>\n",
       "      <td>NaN</td>\n",
       "      <td>2011.0</td>\n",
       "      <td>2011.00</td>\n",
       "      <td>2011.0</td>\n",
       "      <td>2011.00</td>\n",
       "      <td>2011.0</td>\n",
       "    </tr>\n",
       "  </tbody>\n",
       "</table>\n",
       "<p>2159 rows × 64 columns</p>\n",
       "</div>"
      ],
      "text/plain": [
       "                                                   Id                 \\\n",
       "                                                count           mean   \n",
       "JobTitle                                                               \n",
       "ACCOUNT CLERK                                    83.0   25734.819277   \n",
       "ACCOUNTANT                                        5.0   24159.200000   \n",
       "ACCOUNTANT INTERN                                48.0   28128.833333   \n",
       "ACPO,JuvP, Juv Prob (SFERS)                       1.0  135284.000000   \n",
       "ACUPUNCTURIST                                     1.0   18379.000000   \n",
       "...                                               ...            ...   \n",
       "X-RAY LABORATORY AIDE                            26.0   22502.076923   \n",
       "X-Ray Laboratory Aide                           100.0   98890.620000   \n",
       "YOUTH COMMISSION ADVISOR, BOARD OF SUPERVISORS    1.0   23392.000000   \n",
       "Youth Comm Advisor                                4.0   99677.750000   \n",
       "ZOO CURATOR                                       1.0   18779.000000   \n",
       "\n",
       "                                                                        \\\n",
       "                                                         std       min   \n",
       "JobTitle                                                                 \n",
       "ACCOUNT CLERK                                    2621.592874   20766.0   \n",
       "ACCOUNTANT                                       6787.702608   19264.0   \n",
       "ACCOUNTANT INTERN                                3941.782388   21536.0   \n",
       "ACPO,JuvP, Juv Prob (SFERS)                              NaN  135284.0   \n",
       "ACUPUNCTURIST                                            NaN   18379.0   \n",
       "...                                                      ...       ...   \n",
       "X-RAY LABORATORY AIDE                            4694.321369   12940.0   \n",
       "X-Ray Laboratory Aide                           31404.565120   49777.0   \n",
       "YOUTH COMMISSION ADVISOR, BOARD OF SUPERVISORS           NaN   23392.0   \n",
       "Youth Comm Advisor                              32595.496267   58843.0   \n",
       "ZOO CURATOR                                              NaN   18779.0   \n",
       "\n",
       "                                                                     \\\n",
       "                                                      25%       50%   \n",
       "JobTitle                                                              \n",
       "ACCOUNT CLERK                                    24581.00   24774.0   \n",
       "ACCOUNTANT                                       19325.00   20993.0   \n",
       "ACCOUNTANT INTERN                                23325.75   29979.5   \n",
       "ACPO,JuvP, Juv Prob (SFERS)                     135284.00  135284.0   \n",
       "ACUPUNCTURIST                                    18379.00   18379.0   \n",
       "...                                                   ...       ...   \n",
       "X-RAY LABORATORY AIDE                            19632.75   20927.0   \n",
       "X-Ray Laboratory Aide                            65829.00   98379.5   \n",
       "YOUTH COMMISSION ADVISOR, BOARD OF SUPERVISORS   23392.00   23392.0   \n",
       "Youth Comm Advisor                               88267.00  100704.5   \n",
       "ZOO CURATOR                                      18779.00   18779.0   \n",
       "\n",
       "                                                                    BasePay  \\\n",
       "                                                      75%       max   count   \n",
       "JobTitle                                                                      \n",
       "ACCOUNT CLERK                                    26299.50   35638.0    83.0   \n",
       "ACCOUNTANT                                       25928.00   35286.0     5.0   \n",
       "ACCOUNTANT INTERN                                31639.25   34267.0    48.0   \n",
       "ACPO,JuvP, Juv Prob (SFERS)                     135284.00  135284.0     1.0   \n",
       "ACUPUNCTURIST                                    18379.00   18379.0     1.0   \n",
       "...                                                   ...       ...     ...   \n",
       "X-RAY LABORATORY AIDE                            24165.75   33182.0    26.0   \n",
       "X-Ray Laboratory Aide                           130540.75  143632.0   100.0   \n",
       "YOUTH COMMISSION ADVISOR, BOARD OF SUPERVISORS   23392.00   23392.0     1.0   \n",
       "Youth Comm Advisor                              112115.25  138459.0     4.0   \n",
       "ZOO CURATOR                                      18779.00   18779.0     1.0   \n",
       "\n",
       "                                                              ...  \\\n",
       "                                                        mean  ...   \n",
       "JobTitle                                                      ...   \n",
       "ACCOUNT CLERK                                   43300.806506  ...   \n",
       "ACCOUNTANT                                      46643.172000  ...   \n",
       "ACCOUNTANT INTERN                               28732.663958  ...   \n",
       "ACPO,JuvP, Juv Prob (SFERS)                     62290.780000  ...   \n",
       "ACUPUNCTURIST                                   66374.400000  ...   \n",
       "...                                                      ...  ...   \n",
       "X-RAY LABORATORY AIDE                           47664.773077  ...   \n",
       "X-Ray Laboratory Aide                           46086.387100  ...   \n",
       "YOUTH COMMISSION ADVISOR, BOARD OF SUPERVISORS  52609.910000  ...   \n",
       "Youth Comm Advisor                              39077.957500  ...   \n",
       "ZOO CURATOR                                     43148.000000  ...   \n",
       "\n",
       "                                               TotalPayBenefits             \\\n",
       "                                                            75%        max   \n",
       "JobTitle                                                                     \n",
       "ACCOUNT CLERK                                        50401.8100   60838.20   \n",
       "ACCOUNTANT                                           65225.3100   65392.01   \n",
       "ACCOUNTANT INTERN                                    53789.8000   58799.53   \n",
       "ACPO,JuvP, Juv Prob (SFERS)                          80266.3700   80266.37   \n",
       "ACUPUNCTURIST                                        67594.4000   67594.40   \n",
       "...                                                         ...        ...   \n",
       "X-RAY LABORATORY AIDE                                64305.2850   85077.40   \n",
       "X-Ray Laboratory Aide                                96592.2975  129044.16   \n",
       "YOUTH COMMISSION ADVISOR, BOARD OF SUPERVISORS       53632.8700   53632.87   \n",
       "Youth Comm Advisor                                   79742.1325   85774.39   \n",
       "ZOO CURATOR                                          66686.5600   66686.56   \n",
       "\n",
       "                                                 Year                     \\\n",
       "                                                count     mean       std   \n",
       "JobTitle                                                                   \n",
       "ACCOUNT CLERK                                    83.0  2011.00  0.000000   \n",
       "ACCOUNTANT                                        5.0  2011.00  0.000000   \n",
       "ACCOUNTANT INTERN                                48.0  2011.00  0.000000   \n",
       "ACPO,JuvP, Juv Prob (SFERS)                       1.0  2014.00       NaN   \n",
       "ACUPUNCTURIST                                     1.0  2011.00       NaN   \n",
       "...                                               ...      ...       ...   \n",
       "X-RAY LABORATORY AIDE                            26.0  2011.00  0.000000   \n",
       "X-Ray Laboratory Aide                           100.0  2013.04  0.815506   \n",
       "YOUTH COMMISSION ADVISOR, BOARD OF SUPERVISORS    1.0  2011.00       NaN   \n",
       "Youth Comm Advisor                                4.0  2013.00  0.816497   \n",
       "ZOO CURATOR                                       1.0  2011.00       NaN   \n",
       "\n",
       "                                                                         \\\n",
       "                                                   min      25%     50%   \n",
       "JobTitle                                                                  \n",
       "ACCOUNT CLERK                                   2011.0  2011.00  2011.0   \n",
       "ACCOUNTANT                                      2011.0  2011.00  2011.0   \n",
       "ACCOUNTANT INTERN                               2011.0  2011.00  2011.0   \n",
       "ACPO,JuvP, Juv Prob (SFERS)                     2014.0  2014.00  2014.0   \n",
       "ACUPUNCTURIST                                   2011.0  2011.00  2011.0   \n",
       "...                                                ...      ...     ...   \n",
       "X-RAY LABORATORY AIDE                           2011.0  2011.00  2011.0   \n",
       "X-Ray Laboratory Aide                           2012.0  2012.00  2013.0   \n",
       "YOUTH COMMISSION ADVISOR, BOARD OF SUPERVISORS  2011.0  2011.00  2011.0   \n",
       "Youth Comm Advisor                              2012.0  2012.75  2013.0   \n",
       "ZOO CURATOR                                     2011.0  2011.00  2011.0   \n",
       "\n",
       "                                                                 \n",
       "                                                    75%     max  \n",
       "JobTitle                                                         \n",
       "ACCOUNT CLERK                                   2011.00  2011.0  \n",
       "ACCOUNTANT                                      2011.00  2011.0  \n",
       "ACCOUNTANT INTERN                               2011.00  2011.0  \n",
       "ACPO,JuvP, Juv Prob (SFERS)                     2014.00  2014.0  \n",
       "ACUPUNCTURIST                                   2011.00  2011.0  \n",
       "...                                                 ...     ...  \n",
       "X-RAY LABORATORY AIDE                           2011.00  2011.0  \n",
       "X-Ray Laboratory Aide                           2014.00  2014.0  \n",
       "YOUTH COMMISSION ADVISOR, BOARD OF SUPERVISORS  2011.00  2011.0  \n",
       "Youth Comm Advisor                              2013.25  2014.0  \n",
       "ZOO CURATOR                                     2011.00  2011.0  \n",
       "\n",
       "[2159 rows x 64 columns]"
      ]
     },
     "execution_count": 123,
     "metadata": {},
     "output_type": "execute_result"
    }
   ],
   "source": [
    "X = df.groupby(['JobTitle'])\n",
    "X.describe()\n"
   ]
  },
  {
   "cell_type": "code",
   "execution_count": 124,
   "metadata": {},
   "outputs": [
    {
     "name": "stdout",
     "output_type": "stream",
     "text": [
      "JobTitle\n",
      "ACCOUNT CLERK                                     44035.664337\n",
      "ACCOUNTANT                                        47429.268000\n",
      "ACCOUNTANT INTERN                                 29031.742917\n",
      "ACPO,JuvP, Juv Prob (SFERS)                       62290.780000\n",
      "ACUPUNCTURIST                                     67594.400000\n",
      "                                                      ...     \n",
      "X-RAY LABORATORY AIDE                             52705.880385\n",
      "X-Ray Laboratory Aide                             50823.942700\n",
      "YOUTH COMMISSION ADVISOR, BOARD OF SUPERVISORS    53632.870000\n",
      "Youth Comm Advisor                                41414.307500\n",
      "ZOO CURATOR                                       66686.560000\n",
      "Name: TotalPay, Length: 2159, dtype: float64\n"
     ]
    }
   ],
   "source": [
    "Y=X['TotalPay'].mean()\n",
    "print(Y)"
   ]
  },
  {
   "cell_type": "markdown",
   "metadata": {},
   "source": [
    "### Task 6"
   ]
  },
  {
   "cell_type": "code",
   "execution_count": 125,
   "metadata": {},
   "outputs": [
    {
     "name": "stdout",
     "output_type": "stream",
     "text": [
      "The correlation between Salary and\n",
      "\n",
      "BasePay is: 0.9546925905788388\n",
      "OvertimePay is: 0.5048602762311213\n",
      "OtherPay is: 0.470498772535774\n",
      "Benefits is: 0.6322018839186362\n",
      "TotalPayBenefits is: 0.9773128522072129\n",
      "Year is: 0.032090397985590435\n"
     ]
    }
   ],
   "source": [
    "A = df[['BasePay','OvertimePay','OtherPay','Benefits','TotalPayBenefits','Year']]\n",
    "print(\"The correlation between Salary and\\n\")\n",
    "for i in A:\n",
    "    print(f\"{i} is: {df[i].corr(df['TotalPay'])}\")"
   ]
  },
  {
   "cell_type": "code",
   "execution_count": 127,
   "metadata": {},
   "outputs": [
    {
     "data": {
      "image/png": "[encoded data removed]",
      "text/plain": [
       "<Figure size 640x480 with 1 Axes>"
      ]
     },
     "metadata": {},
     "output_type": "display_data"
    }
   ],
   "source": [
    "#So we compare with the columns with the hieghest collelation value BasePay and TotalPayBenefits\n",
    "df.plot(kind = \"scatter\", x = \"BasePay\", y = \"TotalPay\")\n",
    "plt.xlabel('BasePay')\n",
    "plt.ylabel('TotalPay')\n",
    "plt.xlim(-650,568000)\n",
    "plt.ylim(-650,568000)\n",
    "plt.grid(True)\n",
    "plt.show()"
   ]
  },
  {
   "cell_type": "code",
   "execution_count": 126,
   "metadata": {},
   "outputs": [
    {
     "data": {
      "image/png": "[encoded data removed]",
      "text/plain": [
       "<Figure size 640x480 with 1 Axes>"
      ]
     },
     "metadata": {},
     "output_type": "display_data"
    }
   ],
   "source": [
    "df.plot(kind = \"scatter\", x = \"TotalPayBenefits\", y = \"TotalPay\")\n",
    "plt.xlabel('TotalPayBenefits')\n",
    "plt.ylabel('TotalPay')\n",
    "plt.xlim(-650,568000)\n",
    "plt.ylim(-650,568000)\n",
    "plt.grid(True)\n",
    "plt.show()"
   ]
  },
  {
   "cell_type": "markdown",
   "metadata": {},
   "source": [
    "# Task 7"
   ]
  },
  {
   "cell_type": "markdown",
   "metadata": {},
   "source": [
    "Summary:\n",
    "I discovered the dataset and found its baisc statistics then dealt with the missing values,\n",
    "then I also looked into the salaries range and values using histogram \n",
    "and dicovered each department provided using pie charts\n",
    "then I divided the dataset into groups according to the job title and found the averege salary for each job\n",
    "and then I found the attributes that influnces the salary/TotalPay the most which are the BasePay and the TotalPayBenefits \n"
   ]
  },
  {
   "cell_type": "markdown",
   "metadata": {
    "id": "HE9jbRjcUyoX"
   },
   "source": [
    "# Good Luck!"
   ]
  }
 ],
 "metadata": {
  "colab": {
   "provenance": []
  },
  "kernelspec": {
   "display_name": "Python 3 (ipykernel)",
   "language": "python",
   "name": "python3"
  },
  "language_info": {
   "codemirror_mode": {
    "name": "ipython",
    "version": 3
   },
   "file_extension": ".py",
   "mimetype": "text/x-python",
   "name": "python",
   "nbconvert_exporter": "python",
   "pygments_lexer": "ipython3",
   "version": "3.11.4"
  }
 },
 "nbformat": 4,
 "nbformat_minor": 1
}
